{
 "cells": [
  {
   "cell_type": "code",
   "execution_count": 1,
   "metadata": {},
   "outputs": [],
   "source": [
    "import numpy as np \n",
    "import pandas as pd \n",
    "import matplotlib.pyplot as plt \n",
    "import seaborn as sns \n",
    "import scipy.stats as s\n",
    "import initScripts as script\n",
    "from sklearn.model_selection import train_test_split\n",
    "from sklearn.ensemble import RandomForestRegressor"
   ]
  },
  {
   "cell_type": "code",
   "execution_count": 2,
   "metadata": {},
   "outputs": [],
   "source": [
    "# 1. realna spotreba celeho\n",
    "# vybrat data keby bola vonkajsia teplota medzi 15-20\n",
    "# usetrenie celkovej spotreby, zo vsetkych dat\n",
    "# usetrenie spotreby z medzi 15-20"
   ]
  },
  {
   "cell_type": "markdown",
   "metadata": {},
   "source": [
    "# Statistika celeho datasetu"
   ]
  },
  {
   "cell_type": "code",
   "execution_count": 3,
   "metadata": {},
   "outputs": [],
   "source": [
    "df = script.loadDataset('H')"
   ]
  },
  {
   "cell_type": "code",
   "execution_count": 4,
   "metadata": {},
   "outputs": [
    {
     "name": "stdout",
     "output_type": "stream",
     "text": [
      "<class 'pandas.core.frame.DataFrame'>\n",
      "DatetimeIndex: 6390 entries, 2019-04-09 00:00:00 to 2019-12-31 23:00:00\n",
      "Data columns (total 5 columns):\n",
      "T-outside    6390 non-null float64\n",
      "H-outside    6390 non-null float64\n",
      "KWH          6390 non-null float64\n",
      "T-inside     6390 non-null float64\n",
      "H-inside     6390 non-null float64\n",
      "dtypes: float64(5)\n",
      "memory usage: 619.5 KB\n"
     ]
    }
   ],
   "source": [
    "df.info()"
   ]
  },
  {
   "cell_type": "code",
   "execution_count": 5,
   "metadata": {},
   "outputs": [
    {
     "data": {
      "text/html": [
       "<div>\n",
       "<style scoped>\n",
       "    .dataframe tbody tr th:only-of-type {\n",
       "        vertical-align: middle;\n",
       "    }\n",
       "\n",
       "    .dataframe tbody tr th {\n",
       "        vertical-align: top;\n",
       "    }\n",
       "\n",
       "    .dataframe thead th {\n",
       "        text-align: right;\n",
       "    }\n",
       "</style>\n",
       "<table border=\"1\" class=\"dataframe\">\n",
       "  <thead>\n",
       "    <tr style=\"text-align: right;\">\n",
       "      <th></th>\n",
       "      <th>T-outside</th>\n",
       "      <th>H-outside</th>\n",
       "      <th>KWH</th>\n",
       "      <th>T-inside</th>\n",
       "      <th>H-inside</th>\n",
       "    </tr>\n",
       "  </thead>\n",
       "  <tbody>\n",
       "    <tr>\n",
       "      <td>count</td>\n",
       "      <td>6390.000000</td>\n",
       "      <td>6390.000000</td>\n",
       "      <td>6390.000000</td>\n",
       "      <td>6390.000000</td>\n",
       "      <td>6390.000000</td>\n",
       "    </tr>\n",
       "    <tr>\n",
       "      <td>mean</td>\n",
       "      <td>15.029472</td>\n",
       "      <td>65.401676</td>\n",
       "      <td>4.926503</td>\n",
       "      <td>24.479980</td>\n",
       "      <td>29.059158</td>\n",
       "    </tr>\n",
       "    <tr>\n",
       "      <td>std</td>\n",
       "      <td>7.456175</td>\n",
       "      <td>9.756518</td>\n",
       "      <td>1.832093</td>\n",
       "      <td>2.617075</td>\n",
       "      <td>6.336083</td>\n",
       "    </tr>\n",
       "    <tr>\n",
       "      <td>min</td>\n",
       "      <td>-3.937500</td>\n",
       "      <td>40.000000</td>\n",
       "      <td>0.000000</td>\n",
       "      <td>20.922222</td>\n",
       "      <td>9.750621</td>\n",
       "    </tr>\n",
       "    <tr>\n",
       "      <td>25%</td>\n",
       "      <td>9.580208</td>\n",
       "      <td>60.000000</td>\n",
       "      <td>3.615750</td>\n",
       "      <td>22.011111</td>\n",
       "      <td>25.640066</td>\n",
       "    </tr>\n",
       "    <tr>\n",
       "      <td>50%</td>\n",
       "      <td>15.000000</td>\n",
       "      <td>68.000000</td>\n",
       "      <td>5.431000</td>\n",
       "      <td>24.187991</td>\n",
       "      <td>30.000000</td>\n",
       "    </tr>\n",
       "    <tr>\n",
       "      <td>75%</td>\n",
       "      <td>20.666667</td>\n",
       "      <td>73.000000</td>\n",
       "      <td>6.457000</td>\n",
       "      <td>26.033333</td>\n",
       "      <td>32.875000</td>\n",
       "    </tr>\n",
       "    <tr>\n",
       "      <td>max</td>\n",
       "      <td>33.933333</td>\n",
       "      <td>80.000000</td>\n",
       "      <td>7.639000</td>\n",
       "      <td>33.162500</td>\n",
       "      <td>46.000000</td>\n",
       "    </tr>\n",
       "  </tbody>\n",
       "</table>\n",
       "</div>"
      ],
      "text/plain": [
       "         T-outside    H-outside          KWH     T-inside     H-inside\n",
       "count  6390.000000  6390.000000  6390.000000  6390.000000  6390.000000\n",
       "mean     15.029472    65.401676     4.926503    24.479980    29.059158\n",
       "std       7.456175     9.756518     1.832093     2.617075     6.336083\n",
       "min      -3.937500    40.000000     0.000000    20.922222     9.750621\n",
       "25%       9.580208    60.000000     3.615750    22.011111    25.640066\n",
       "50%      15.000000    68.000000     5.431000    24.187991    30.000000\n",
       "75%      20.666667    73.000000     6.457000    26.033333    32.875000\n",
       "max      33.933333    80.000000     7.639000    33.162500    46.000000"
      ]
     },
     "execution_count": 5,
     "metadata": {},
     "output_type": "execute_result"
    }
   ],
   "source": [
    "df.describe()"
   ]
  },
  {
   "cell_type": "markdown",
   "metadata": {},
   "source": [
    "## Celkova spotrebna v datasete (od Aprila do Decembra)"
   ]
  },
  {
   "cell_type": "code",
   "execution_count": 6,
   "metadata": {},
   "outputs": [
    {
     "data": {
      "text/plain": [
       "31480.353000000003"
      ]
     },
     "execution_count": 6,
     "metadata": {},
     "output_type": "execute_result"
    }
   ],
   "source": [
    "df['KWH'].sum()"
   ]
  },
  {
   "cell_type": "markdown",
   "metadata": {},
   "source": [
    "## Spotrebna v celom datasete ked vonkajsia teplota bola medzi 15 - 20 stupnov"
   ]
  },
  {
   "cell_type": "code",
   "execution_count": 7,
   "metadata": {},
   "outputs": [
    {
     "data": {
      "text/plain": [
       "7880.218000000001"
      ]
     },
     "execution_count": 7,
     "metadata": {},
     "output_type": "execute_result"
    }
   ],
   "source": [
    "df[(df['T-outside'] >= 15) & (df['T-outside'] <=20)]['KWH'].sum()"
   ]
  },
  {
   "cell_type": "markdown",
   "metadata": {},
   "source": [
    "# Trenovanie modelu"
   ]
  },
  {
   "cell_type": "code",
   "execution_count": 8,
   "metadata": {},
   "outputs": [],
   "source": [
    "df = script.loadDataset('H')\n",
    "df['On'] = df['T-outside'].apply(lambda x : 1 if x <= 15 else 0)\n",
    "df = df[df['KWH'] != 0]\n",
    "df['SetT'] = 22\n",
    "X = df[['T-outside','H-outside','T-inside','H-inside','On','SetT']]\n",
    "y = df[['KWH']]"
   ]
  },
  {
   "cell_type": "code",
   "execution_count": 9,
   "metadata": {},
   "outputs": [
    {
     "name": "stderr",
     "output_type": "stream",
     "text": [
      "C:\\Users\\William.Brach\\AppData\\Local\\Continuum\\anaconda3\\lib\\site-packages\\ipykernel_launcher.py:2: DataConversionWarning: A column-vector y was passed when a 1d array was expected. Please change the shape of y to (n_samples,), for example using ravel().\n",
      "  \n"
     ]
    }
   ],
   "source": [
    "randomForest = RandomForestRegressor(random_state = 1, n_estimators= 1400, min_samples_split = 5,min_samples_leaf=1,max_features='sqrt',max_depth=None,bootstrap=True)\n",
    "randomForest.fit(X,y)\n",
    "X20RF = X[['T-outside','H-outside','T-inside','H-inside','On','SetT']]\n",
    "X20RF['On'] = X20RF['T-outside'].apply(lambda x: 1 if x <= 20 else 0)\n",
    "X20RF['KWH']= randomForest.predict(X20RF)"
   ]
  },
  {
   "cell_type": "code",
   "execution_count": 10,
   "metadata": {},
   "outputs": [
    {
     "data": {
      "text/plain": [
       "<matplotlib.collections.PathCollection at 0x2a20a0e3648>"
      ]
     },
     "execution_count": 10,
     "metadata": {},
     "output_type": "execute_result"
    },
    {
     "data": {
      "image/png": "[encoded data removed]",
      "text/plain": [
       "<Figure size 432x288 with 1 Axes>"
      ]
     },
     "metadata": {
      "needs_background": "light"
     },
     "output_type": "display_data"
    }
   ],
   "source": [
    "# cervena su povodne data\n",
    "plt.scatter(X['T-outside'],y['KWH'],c='red',alpha=0.2)\n",
    "# cierna su predikovane data\n",
    "plt.scatter(X20RF['T-outside'],X20RF['KWH'],c='black',alpha=0.5)"
   ]
  },
  {
   "cell_type": "markdown",
   "metadata": {},
   "source": [
    "# Spocitanie predikovanej spotreby\n"
   ]
  },
  {
   "cell_type": "code",
   "execution_count": 11,
   "metadata": {},
   "outputs": [],
   "source": [
    "b_kwh = y['KWH'].sum()\n",
    "predict_kwh = X20RF['KWH'].sum()\n",
    "euro_b_kwh = b_kwh * 0.13\n",
    "euro_predict_kwh = predict_kwh * 0.13"
   ]
  },
  {
   "cell_type": "markdown",
   "metadata": {},
   "source": [
    "## Spotreba"
   ]
  },
  {
   "cell_type": "code",
   "execution_count": 12,
   "metadata": {},
   "outputs": [
    {
     "name": "stdout",
     "output_type": "stream",
     "text": [
      "Celorocna spotrebna KWH : 31480.353\n",
      "Predikovana spotreba KWH : 31101.672465792995\n",
      "Rozdiel KWH :378.6805342070038\n"
     ]
    }
   ],
   "source": [
    "print('Celorocna spotrebna KWH : '+str(b_kwh) )\n",
    "print('Predikovana spotreba KWH : '+str(predict_kwh))\n",
    "print('Rozdiel KWH :'+str(b_kwh-predict_kwh))"
   ]
  },
  {
   "cell_type": "markdown",
   "metadata": {},
   "source": [
    "## Cena za spotrebu"
   ]
  },
  {
   "cell_type": "code",
   "execution_count": 13,
   "metadata": {},
   "outputs": [
    {
     "name": "stdout",
     "output_type": "stream",
     "text": [
      "Cena za spotrebu KWH : 4092.44589\n",
      "Cena za predikovanu spotrebu KWH : 4043.2174205530896\n",
      "Rozdiel : 49.22846944691037\n"
     ]
    }
   ],
   "source": [
    "print('Cena za spotrebu KWH : '+str(euro_b_kwh) )\n",
    "print('Cena za predikovanu spotrebu KWH : '+str(euro_predict_kwh))\n",
    "print('Rozdiel : '+str(euro_b_kwh-euro_predict_kwh))"
   ]
  },
  {
   "cell_type": "markdown",
   "metadata": {},
   "source": [
    "# Spocitanie predikovanej spotreby medzi 15 a 20 stupnov"
   ]
  },
  {
   "cell_type": "code",
   "execution_count": 14,
   "metadata": {},
   "outputs": [],
   "source": [
    "df = script.loadDataset('H')\n",
    "b_kwh = df[(df['T-outside'] >= 15) & (df['T-outside'] <=20)]['KWH'].sum()\n",
    "predict_kwh = X20RF[(X20RF['T-outside'] >= 15) & (X20RF['T-outside'] <=20)]['KWH'].sum()\n",
    "euro_b_kwh = b_kwh * 0.13\n",
    "euro_predict_kwh = predict_kwh * 0.13"
   ]
  },
  {
   "cell_type": "markdown",
   "metadata": {},
   "source": [
    "## Spotreba"
   ]
  },
  {
   "cell_type": "code",
   "execution_count": 15,
   "metadata": {},
   "outputs": [
    {
     "name": "stdout",
     "output_type": "stream",
     "text": [
      "Celorocna spotrebna KWH : 7880.218000000001\n",
      "Predikovana spotreba KWH : 7504.276224851395\n",
      "Rozdiel KWH :375.9417751486053\n"
     ]
    }
   ],
   "source": [
    "print('Celorocna spotrebna KWH : '+str(b_kwh) )\n",
    "print('Predikovana spotreba KWH : '+str(predict_kwh))\n",
    "print('Rozdiel KWH :'+str(b_kwh-predict_kwh))"
   ]
  },
  {
   "cell_type": "markdown",
   "metadata": {},
   "source": [
    "## Cena za spotrebu"
   ]
  },
  {
   "cell_type": "code",
   "execution_count": 16,
   "metadata": {},
   "outputs": [
    {
     "name": "stdout",
     "output_type": "stream",
     "text": [
      "Cena za spotrebu KWH : 1024.4283400000002\n",
      "Cena za predikovanu spotrebu KWH : 975.5559092306814\n",
      "Rozdiel : 48.872430769318726\n"
     ]
    }
   ],
   "source": [
    "print('Cena za spotrebu KWH : '+str(euro_b_kwh) )\n",
    "print('Cena za predikovanu spotrebu KWH : '+str(euro_predict_kwh))\n",
    "print('Rozdiel : '+str(euro_b_kwh-euro_predict_kwh))"
   ]
  }
 ],
 "metadata": {
  "kernelspec": {
   "display_name": "Python 3",
   "language": "python",
   "name": "python3"
  },
  "language_info": {
   "codemirror_mode": {
    "name": "ipython",
    "version": 3
   },
   "file_extension": ".py",
   "mimetype": "text/x-python",
   "name": "python",
   "nbconvert_exporter": "python",
   "pygments_lexer": "ipython3",
   "version": "3.7.4"
  }
 },
 "nbformat": 4,
 "nbformat_minor": 2
}
